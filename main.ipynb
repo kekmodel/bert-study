{
 "cells": [
  {
   "cell_type": "code",
   "execution_count": 1,
   "metadata": {},
   "outputs": [],
   "source": [
    "import os\n",
    "import random\n",
    "import re\n",
    "import math\n",
    "from collections import OrderedDict\n",
    "\n",
    "import torch\n",
    "from torch.jit import script, trace\n",
    "import torch.nn as nn\n",
    "from torch import optim\n",
    "import torch.nn.functional as F\n",
    "from konlpy.tag import Mecab"
   ]
  },
  {
   "cell_type": "code",
   "execution_count": 2,
   "metadata": {},
   "outputs": [],
   "source": [
    "USE_CUDA = torch.cuda.is_available()\n",
    "device = torch.device('cuda:0' if USE_CUDA else 'cpu')\n",
    "tagger = Mecab()"
   ]
  },
  {
   "cell_type": "code",
   "execution_count": 3,
   "metadata": {},
   "outputs": [
    {
     "data": {
      "text/plain": [
       "True"
      ]
     },
     "execution_count": 3,
     "metadata": {},
     "output_type": "execute_result"
    }
   ],
   "source": [
    "USE_CUDA"
   ]
  },
  {
   "cell_type": "code",
   "execution_count": 4,
   "metadata": {},
   "outputs": [],
   "source": [
    "def pre_processing(file):\n",
    "    with open(file, 'r', encoding='utf8') as f:\n",
    "        lines = f.readlines()\n",
    "    corpus = OrderedDict()\n",
    "    title_i = -1\n",
    "    group_id = -1\n",
    "    line_id = 0\n",
    "    is_pass = False\n",
    "    for i, line in enumerate(lines):\n",
    "        if line[:4] == '<doc':\n",
    "            title_i = i + 1\n",
    "            group_id += 1\n",
    "            continue\n",
    "        if i == title_i:\n",
    "            continue\n",
    "        for l in line.splitlines():\n",
    "            l = re.sub(r'[/s,\\?!]+', '', l)\n",
    "            l = re.sub(r'[^ 가-힣\\.]+', 'x', l)\n",
    "            l = re.sub(r'다\\.', '다\\n', l)\n",
    "            l = re.sub(r'\\.', '', l)\n",
    "            sentences = l.split('\\n')\n",
    "            for s in sentences:\n",
    "                if is_pass:\n",
    "                    is_pass = False\n",
    "                    continue\n",
    "                if 'x' not in s:\n",
    "                    if s != '':\n",
    "                        s = s.strip()\n",
    "                        words = s.split(' ')\n",
    "                        new_s = []\n",
    "                        for w in words:\n",
    "                            if is_pass:\n",
    "                                break\n",
    "                            tokens = tagger.morphs(w)\n",
    "                            j = 0\n",
    "                            for t in tokens:\n",
    "                                if len(t) > 5:\n",
    "                                    break\n",
    "                                if j > 0:\n",
    "                                    t = '##' + t\n",
    "                                new_s.append(t)\n",
    "                                j += 1\n",
    "                        s = ' '.join(new_s).strip()\n",
    "                        if s != '':\n",
    "                            corpus[line_id] = {}\n",
    "                            corpus[line_id][group_id] = s\n",
    "                            line_id += 1\n",
    "    return corpus"
   ]
  },
  {
   "cell_type": "code",
   "execution_count": 5,
   "metadata": {},
   "outputs": [],
   "source": [
    "def print_lines(corpus, n=10):\n",
    "    for i in range(n):\n",
    "        try:\n",
    "            print(corpus[i])\n",
    "        except ValueError:\n",
    "            print('not enough lines')\n",
    "            break"
   ]
  },
  {
   "cell_type": "code",
   "execution_count": 6,
   "metadata": {},
   "outputs": [],
   "source": [
    "corpus = pre_processing('wiki.txt')"
   ]
  },
  {
   "cell_type": "code",
   "execution_count": 7,
   "metadata": {
    "scrolled": false
   },
   "outputs": [
    {
     "name": "stdout",
     "output_type": "stream",
     "text": [
      "{0: '지미 카터 ##는 조지아주 섬터 카운티 플 ##레인스 마을 ##에서 태어났 ##다'}\n",
      "{0: '조지아 공과 ##대학교 ##를 졸업 ##하 ##였 ##다'}\n",
      "{0: '조지아 주지사 ##로 지내 ##면서 미국 ##에 사 ##는 흑인 등 ##용법 ##을 내세웠 ##다'}\n",
      "{0: '카터 대통령 ##은 에너지 개발 ##을 촉구 ##했으나 공화 ##당의 반 ##대로 무산 ##되 ##었 ##다'}\n",
      "{0: '카터 ##는 이집트 ##와 이스라엘 ##을 조정 ##하 ##여 캠프 데이비드 ##에서 안와르 사다트 대통령 ##과 메나헴 베긴 수상 ##과 함께 중동 평화 ##를 위한 캠프 ##데이비드 협정 ##을 체결 ##했 ##다'}\n",
      "{0: '그러나 이것 ##은 공화 ##당과 미국 ##의 유대인 단체 ##의 반발 ##을 일으켰 ##다'}\n",
      "{0: '지미 카터 ##는 대한민국 ##과 ##의 관계 ##에서 ##도 중요 ##한 영향 ##을 미쳤 ##던 대통령 중 하나다'}\n",
      "{0: '인권 문제 ##와 주한 ##미군 철수 문제 ##로 한때 한미 관계 ##가 불편 ##하 ##기 ##도 했 ##다'}\n",
      "{0: '미국 ##의 빈곤층 지원 활동 사랑 ##의 집짓기 운동 국제 분쟁 중재 등의 활동 ##도 했 ##다'}\n",
      "{0: '카터 ##는 카터 행정부 이후 미국 ##이 북 ##핵 위기 코소보 전쟁 이라크 전쟁 ##과 같이 미국 ##이 군사 ##적 행동 ##을 최후 ##로 선택 ##하 ##는 전통 ##적 사고 ##를 버리 ##고 군사 ##적 행동 ##을 선행 ##하 ##는 행위 ##에 대해 깊 ##은 유감 ##을 표시 하 ##며 미국 ##의 군사 ##적 활동 ##에 강한 반대 입장 ##을 보이 ##고 있 ##다'}\n"
     ]
    }
   ],
   "source": [
    "print_lines(corpus)"
   ]
  },
  {
   "cell_type": "code",
   "execution_count": 8,
   "metadata": {},
   "outputs": [],
   "source": [
    "def save_corpus(corpus):\n",
    "    with open('corpus.txt', 'w', encoding='utf8') as f:\n",
    "        for values in corpus.values():\n",
    "            for line in values.values():\n",
    "                f.write(f'{line} \\n')"
   ]
  },
  {
   "cell_type": "code",
   "execution_count": 9,
   "metadata": {},
   "outputs": [],
   "source": [
    "def get_vocab(corpus):\n",
    "    vocab = ['[CLS]', '[SEP]', '[MASK]']\n",
    "    for values in corpus.values():\n",
    "        for line in values.values():\n",
    "            vocab.extend(line.split(' '))\n",
    "    return sorted(list(set(vocab)))"
   ]
  },
  {
   "cell_type": "code",
   "execution_count": 10,
   "metadata": {},
   "outputs": [],
   "source": [
    "vocab = get_vocab(corpus)"
   ]
  },
  {
   "cell_type": "code",
   "execution_count": 11,
   "metadata": {},
   "outputs": [
    {
     "data": {
      "text/plain": [
       "238217"
      ]
     },
     "execution_count": 11,
     "metadata": {},
     "output_type": "execute_result"
    }
   ],
   "source": [
    "len(vocab)"
   ]
  },
  {
   "cell_type": "code",
   "execution_count": 13,
   "metadata": {},
   "outputs": [
    {
     "data": {
      "text/plain": [
       "56300"
      ]
     },
     "execution_count": 13,
     "metadata": {},
     "output_type": "execute_result"
    }
   ],
   "source": [
    "vocab.index('[SEP]')"
   ]
  },
  {
   "cell_type": "code",
   "execution_count": null,
   "metadata": {},
   "outputs": [],
   "source": []
  }
 ],
 "metadata": {
  "kernelspec": {
   "display_name": "Python 3",
   "language": "python",
   "name": "python3"
  },
  "language_info": {
   "codemirror_mode": {
    "name": "ipython",
    "version": 3
   },
   "file_extension": ".py",
   "mimetype": "text/x-python",
   "name": "python",
   "nbconvert_exporter": "python",
   "pygments_lexer": "ipython3",
   "version": "3.7.1"
  }
 },
 "nbformat": 4,
 "nbformat_minor": 2
}
