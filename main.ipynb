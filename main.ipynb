{
 "cells": [
  {
   "cell_type": "code",
   "execution_count": 1,
   "metadata": {},
   "outputs": [],
   "source": [
    "import torch\n",
    "from torch.jit import script, trace\n",
    "import torch.nn as nn\n",
    "from torch import optim\n",
    "import torch.nn.functional as F\n",
    "import csv\n",
    "import random\n",
    "import re\n",
    "import os\n",
    "import unicodedata\n",
    "import codecs\n",
    "import itertools\n",
    "import math"
   ]
  },
  {
   "cell_type": "code",
   "execution_count": 2,
   "metadata": {},
   "outputs": [],
   "source": [
    "USE_CUDA = torch.cuda.is_available()\n",
    "DEVICE = torch.device('cuda:0' if USE_CUDA else 'cpu')"
   ]
  },
  {
   "cell_type": "code",
   "execution_count": 3,
   "metadata": {},
   "outputs": [
    {
     "data": {
      "text/plain": [
       "True"
      ]
     },
     "execution_count": 3,
     "metadata": {},
     "output_type": "execute_result"
    }
   ],
   "source": [
    "USE_CUDA"
   ]
  },
  {
   "cell_type": "code",
   "execution_count": 4,
   "metadata": {},
   "outputs": [],
   "source": [
    "def del_title(file):\n",
    "    pre = []\n",
    "    new = []\n",
    "    with open(file, 'r', encoding='utf8') as f:\n",
    "        lines = f.readlines()\n",
    "    title_i = -1\n",
    "    for i, line in enumerate(lines):\n",
    "        if line == '\\n':\n",
    "            continue\n",
    "        if line[:4] == '<doc':\n",
    "            title_i = i + 1\n",
    "            continue\n",
    "        if i == title_i:\n",
    "            continue\n",
    "        pre.extend(line.splitlines())\n",
    "    for v in ''.join(pre):\n",
    "        if v != ' ':\n",
    "            new.append(v)\n",
    "    return ''.join(new)"
   ]
  },
  {
   "cell_type": "code",
   "execution_count": 5,
   "metadata": {},
   "outputs": [],
   "source": [
    "h = del_title('wiki.txt')"
   ]
  },
  {
   "cell_type": "code",
   "execution_count": 6,
   "metadata": {
    "scrolled": true
   },
   "outputs": [],
   "source": [
    "t = re.sub(r'[^ㄱ-ㅣ가-힣\\.,\"\\?~\\'!]+', 'a', h)"
   ]
  },
  {
   "cell_type": "code",
   "execution_count": 7,
   "metadata": {},
   "outputs": [],
   "source": [
    "tt = list(t)\n",
    "x = tt.copy()\n",
    "for i, v in enumerate(tt):\n",
    "    if v == '.':\n",
    "        if tt[i-1] == '다':\n",
    "            x[i] = '.\\n'\n",
    "\n",
    "xx = ''.join(x)\n",
    "r = xx.split('\\n')\n",
    "\n",
    "y = []\n",
    "for v in r:\n",
    "    if 'a' in v:\n",
    "        continue\n",
    "    y.append(v)\n",
    "\n",
    "c = []\n",
    "for v in y:\n",
    "    if len(v) <= 10:\n",
    "        continue\n",
    "    c.append(v)"
   ]
  },
  {
   "cell_type": "code",
   "execution_count": 8,
   "metadata": {},
   "outputs": [
    {
     "data": {
      "text/plain": [
       "1283688"
      ]
     },
     "execution_count": 8,
     "metadata": {},
     "output_type": "execute_result"
    }
   ],
   "source": [
    "len(c)"
   ]
  },
  {
   "cell_type": "code",
   "execution_count": 9,
   "metadata": {},
   "outputs": [],
   "source": [
    "text = '\\n'.join(c)"
   ]
  },
  {
   "cell_type": "code",
   "execution_count": 10,
   "metadata": {},
   "outputs": [
    {
     "data": {
      "text/plain": [
       "53555285"
      ]
     },
     "execution_count": 10,
     "metadata": {},
     "output_type": "execute_result"
    }
   ],
   "source": [
    "len(text)"
   ]
  },
  {
   "cell_type": "code",
   "execution_count": 11,
   "metadata": {},
   "outputs": [],
   "source": [
    "with open('corpus.txt', 'w', encoding='utf8') as f:\n",
    "    f.write(text)"
   ]
  },
  {
   "cell_type": "code",
   "execution_count": 15,
   "metadata": {},
   "outputs": [
    {
     "name": "stdout",
     "output_type": "stream",
     "text": [
      "지미카터는조지아주섬터카운티플레인스마을에서태어났다.\n",
      "조지아공과대학교를졸업하였다.\n",
      "조지아주지사로지내면서,미국에사는흑인등용법을내세웠다.\n",
      "카터대통령은에너지개발을촉구했으나공화당의반대로무산되었다.\n",
      "카터는이집트와이스라엘을조정하여,캠프데이비드에서안와르사다트대통령과메나헴베긴수상과함께중동평화를위한캠프데이비드협정을체결했다.\n",
      "그러나이것은공화당과미국의유대인단체의반발을일으켰다.\n",
      "지미카터는대한민국과의관계에서도중요한영향을미쳤던대통령중하나다.\n",
      "인권문제와주한미군철수문제로한때한미관계가불편하기도했다.\n",
      "미국의빈곤층지원활동,사랑의집짓기운동,국제분쟁중재등의활동도했다.\n",
      "카터는카터행정부이후미국이북핵위기,코소보전쟁,이라크전쟁과같이미국이군사적행동을최후로선택하는전통적사고를버리고군사적행동을선행하는행위에대해깊은유감을표시하며미국의군사적활동에강한반대입장을보이고있다.\n",
      "특히국제분쟁조정을위해북한의김일성,아이티의세드라스장군,팔레인스타인의하마스,보스니아의세르비아계정권같이미국정부에대해협상을거부하면서사태의위기를초래한인물및단체를직접만나분쟁의원인을근본적으로해결하기위해힘썼다.\n",
      "이과정에서미국행정부와갈등을보이기도했지만,전직대통령의권한과재야유명인사들의활약으로해결해나갔다.\n",
      "또한이때김영삼대통령과김일성주석의만남을주선했다.\n",
      "하지만그로부터수주일후김일성이갑자기사망하여김일성과김영삼의정상회담은이루어지지못했다.\n",
      "미국의관타나모수용소문제,세계의인권문제에서도관심이깊어유엔에유엔인권고등판무관의제도를시행하도록노력하여독재자들의인권유린에대해제약을하고,국제형사재판소를만드는데기여하여독재자들같은인권유린범죄자를재판소로회부하여국제적인처벌을받게하는등인권신장에크나큰기여를했다.\n",
      "경제문제를해결하지못하고주이란미국대사관인질사건에발목이잡혀실패한대통령으로평가를받지만이란사태는미국내이란재산을풀어주겠다는조건을내세워서사실상카터가해결한것이었고,사랑의집짓기운동등으로퇴임후에훨씬더존경받는미국대통령중에특이한인물로남았다.\n",
      "현대수학은형식논리를이용해서공리로구성된추상적구조를연구하는학문으로여겨지기도한다.\n",
      "수학은그구조와발전과정에서는자연과학에속하는물리학을비롯한다른학문들과깊은연관을맺고있다.\n",
      "\n"
     ]
    }
   ],
   "source": [
    "print(text[:1000-17])"
   ]
  },
  {
   "cell_type": "code",
   "execution_count": null,
   "metadata": {},
   "outputs": [],
   "source": []
  }
 ],
 "metadata": {
  "kernelspec": {
   "display_name": "Python 3",
   "language": "python",
   "name": "python3"
  },
  "language_info": {
   "codemirror_mode": {
    "name": "ipython",
    "version": 3
   },
   "file_extension": ".py",
   "mimetype": "text/x-python",
   "name": "python",
   "nbconvert_exporter": "python",
   "pygments_lexer": "ipython3",
   "version": "3.7.1"
  }
 },
 "nbformat": 4,
 "nbformat_minor": 2
}
