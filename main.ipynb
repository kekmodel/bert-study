{
 "cells": [
  {
   "cell_type": "code",
   "execution_count": 1,
   "metadata": {},
   "outputs": [],
   "source": [
    "import random\n",
    "import re\n",
    "import math\n",
    "from collections import OrderedDict\n",
    "\n",
    "import torch\n",
    "from torch.jit import script, trace\n",
    "import torch.nn as nn\n",
    "from torch import optim\n",
    "import torch.nn.functional as F"
   ]
  },
  {
   "cell_type": "code",
   "execution_count": 2,
   "metadata": {},
   "outputs": [],
   "source": [
    "USE_CUDA = torch.cuda.is_available()\n",
    "device = torch.device('cuda:0' if USE_CUDA else 'cpu')"
   ]
  },
  {
   "cell_type": "code",
   "execution_count": 3,
   "metadata": {},
   "outputs": [
    {
     "data": {
      "text/plain": [
       "True"
      ]
     },
     "execution_count": 3,
     "metadata": {},
     "output_type": "execute_result"
    }
   ],
   "source": [
    "USE_CUDA"
   ]
  },
  {
   "cell_type": "code",
   "execution_count": 4,
   "metadata": {},
   "outputs": [],
   "source": [
    "def pre_processing(file):\n",
    "    with open(file, 'r', encoding='utf8') as f:\n",
    "        lines = f.readlines()\n",
    "    corpus = OrderedDict()\n",
    "    title_i = -1\n",
    "    group_id = -1\n",
    "    line_id = 0\n",
    "    for i, line in enumerate(lines):\n",
    "        if line[:4] == '<doc':\n",
    "            title_i = i + 1\n",
    "            group_id += 1\n",
    "            continue\n",
    "        if i == title_i:\n",
    "            continue\n",
    "        for sline in line.splitlines():\n",
    "            sline = re.sub(r'[^ ㄱ-ㅣ가-힣\\.,]+', 'x', sline)\n",
    "            sline = re.sub(r'다\\.', '다.\\n', sline)\n",
    "            slines = sline.split('\\n')\n",
    "            for s in slines:\n",
    "                s = s.strip()\n",
    "                if len(s) > 20:\n",
    "                    if 'x' not in s:\n",
    "                        corpus[line_id] = {}\n",
    "                        corpus[line_id][group_id] = s\n",
    "                        line_id += 1\n",
    "    return corpus\n",
    "\n",
    "\n",
    "def print_lines(corpus, n=10):\n",
    "    for i in range(n):\n",
    "        try:\n",
    "            print(corpus[i])\n",
    "        except ValueError:\n",
    "            print('not enough lines')"
   ]
  },
  {
   "cell_type": "code",
   "execution_count": 5,
   "metadata": {},
   "outputs": [],
   "source": [
    "corpus = pre_processing('wiki.txt')"
   ]
  },
  {
   "cell_type": "code",
   "execution_count": 6,
   "metadata": {
    "scrolled": false
   },
   "outputs": [
    {
     "name": "stdout",
     "output_type": "stream",
     "text": [
      "{0: '지미 카터는 조지아주 섬터 카운티 플레인스 마을에서 태어났다.'}\n",
      "{0: '조지아 주지사로 지내면서, 미국에 사는 흑인 등용법을 내세웠다.'}\n",
      "{0: '카터 대통령은 에너지 개발을 촉구했으나 공화당의 반대로 무산되었다.'}\n",
      "{0: '카터는 이집트와 이스라엘을 조정하여, 캠프 데이비드에서 안와르 사다트 대통령과 메나헴 베긴 수상과 함께 중동 평화를 위한 캠프데이비드 협정을 체결했다.'}\n",
      "{0: '그러나 이것은 공화당과 미국의 유대인 단체의 반발을 일으켰다.'}\n",
      "{0: '지미 카터는 대한민국과의 관계에서도 중요한 영향을 미쳤던 대통령 중 하나다.'}\n",
      "{0: '인권 문제와 주한미군 철수 문제로 한때 한미 관계가 불편하기도 했다.'}\n",
      "{0: '미국의 빈곤층 지원 활동, 사랑의 집짓기 운동, 국제 분쟁 중재 등의 활동도 했다.'}\n",
      "{0: '카터는 카터 행정부 이후 미국이 북핵 위기, 코소보 전쟁, 이라크 전쟁과 같이 미국이 군사적 행동을 최후로 선택하는 전통적 사고를 버리고 군사적 행동을 선행하는 행위에 대해 깊은 유감을 표시 하며 미국의 군사적 활동에 강한 반대 입장을 보이고 있다.'}\n",
      "{0: '특히 국제 분쟁 조정을 위해 북한의 김일성, 아이티의 세드라스 장군, 팔레인스타인의 하마스, 보스니아의 세르비아계 정권 같이 미국 정부에 대해 협상을 거부하면서 사태의 위기를 초래한 인물 및 단체를 직접 만나 분쟁의 원인을 근본적으로 해결하기 위해 힘썼다.'}\n"
     ]
    }
   ],
   "source": [
    "print_lines(corpus)"
   ]
  },
  {
   "cell_type": "code",
   "execution_count": 7,
   "metadata": {},
   "outputs": [],
   "source": [
    "with open('corpus.txt', 'w', encoding='utf8') as f:\n",
    "    for values in corpus.values():\n",
    "        for line in values.values():\n",
    "            f.write(f'{line}\\n')"
   ]
  },
  {
   "cell_type": "code",
   "execution_count": null,
   "metadata": {},
   "outputs": [],
   "source": []
  }
 ],
 "metadata": {
  "kernelspec": {
   "display_name": "Python 3",
   "language": "python",
   "name": "python3"
  },
  "language_info": {
   "codemirror_mode": {
    "name": "ipython",
    "version": 3
   },
   "file_extension": ".py",
   "mimetype": "text/x-python",
   "name": "python",
   "nbconvert_exporter": "python",
   "pygments_lexer": "ipython3",
   "version": "3.7.1"
  }
 },
 "nbformat": 4,
 "nbformat_minor": 2
}
