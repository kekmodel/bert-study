{
 "cells": [
  {
   "cell_type": "code",
   "execution_count": 1,
   "metadata": {},
   "outputs": [],
   "source": [
    "import torch\n",
    "from torch import nn"
   ]
  },
  {
   "cell_type": "code",
   "execution_count": 2,
   "metadata": {},
   "outputs": [],
   "source": [
    "device = torch.device('cuda:0')"
   ]
  },
  {
   "cell_type": "code",
   "execution_count": 3,
   "metadata": {},
   "outputs": [],
   "source": [
    "class Embeddings(nn.Module):\n",
    "    \"The embedding module from word, position and token_type embeddings.\"\n",
    "    def __init__(self):\n",
    "        super().__init__()\n",
    "        self.tok_embed = nn.Embedding(100, 4) # token embedding\n",
    "        self.pos_embed = nn.Embedding(100, 4) # position embedding\n",
    "#         self.seg_embed = nn.Embedding(2, 4) # segment(token type) embedding\n",
    "\n",
    "        self.norm = nn.LayerNorm(4)\n",
    "        self.drop = nn.Dropout(0.1)\n",
    "\n",
    "    def forward(self, x):\n",
    "        seq_len = x.size(1)\n",
    "        pos = torch.arange(seq_len, dtype=torch.long, device=x.device)\n",
    "        print(pos)\n",
    "        pos = pos.unsqueeze(0).expand_as(x) # (S,) -> (B, S)\n",
    "        print(pos)\n",
    "        e = self.tok_embed(x) + self.pos_embed(pos)\n",
    "        print(self.tok_embed(x).size(), self.pos_embed(pos).size())\n",
    "        return self.drop(self.norm(e))"
   ]
  },
  {
   "cell_type": "code",
   "execution_count": 17,
   "metadata": {},
   "outputs": [
    {
     "data": {
      "text/plain": [
       "tensor([[[0, 0, 0, 1, 0, 0, 0, 0, 0, 0]],\n",
       "\n",
       "        [[0, 0, 0, 0, 0, 0, 1, 0, 0, 0]]], device='cuda:0')"
      ]
     },
     "execution_count": 17,
     "metadata": {},
     "output_type": "execute_result"
    }
   ],
   "source": [
    "x1 = torch.zeros((1, 10)).to(device).long() \n",
    "x1[0, 3] = 1\n",
    "x2 = torch.zeros((1, 10)).to(device).long()\n",
    "x2[0, 6] = 1\n",
    "x = torch.stack((x1, x2))\n",
    "x"
   ]
  },
  {
   "cell_type": "code",
   "execution_count": 5,
   "metadata": {},
   "outputs": [],
   "source": [
    "emb = Embeddings().to(device)"
   ]
  },
  {
   "cell_type": "code",
   "execution_count": 6,
   "metadata": {},
   "outputs": [
    {
     "name": "stdout",
     "output_type": "stream",
     "text": [
      "tensor([0, 1, 2, 3, 4, 5, 6, 7, 8, 9], device='cuda:0')\n",
      "tensor([[0, 1, 2, 3, 4, 5, 6, 7, 8, 9],\n",
      "        [0, 1, 2, 3, 4, 5, 6, 7, 8, 9]], device='cuda:0')\n",
      "torch.Size([2, 10, 4]) torch.Size([2, 10, 4])\n"
     ]
    }
   ],
   "source": [
    "y = emb(x)"
   ]
  },
  {
   "cell_type": "code",
   "execution_count": 7,
   "metadata": {},
   "outputs": [
    {
     "data": {
      "text/plain": [
       "torch.Size([2, 10, 4])"
      ]
     },
     "execution_count": 7,
     "metadata": {},
     "output_type": "execute_result"
    }
   ],
   "source": [
    "y.size()"
   ]
  },
  {
   "cell_type": "code",
   "execution_count": 8,
   "metadata": {},
   "outputs": [
    {
     "data": {
      "text/plain": [
       "tensor([[[-0.7368,  1.7552,  0.1218, -1.1402],\n",
       "         [-1.3267,  1.2296,  0.0000, -0.8629],\n",
       "         [-0.1025,  1.6025,  0.0358, -1.5357],\n",
       "         [ 0.0000, -1.6171,  0.7571, -0.4007],\n",
       "         [-0.7953,  1.5004,  0.5977, -1.3028],\n",
       "         [-1.4587,  0.0000,  1.1395, -0.6951],\n",
       "         [-1.2745,  1.5440,  0.5337,  0.0000],\n",
       "         [-0.3649,  1.8898, -0.9507, -0.5742],\n",
       "         [-0.2391,  1.5931,  0.1675, -1.5215],\n",
       "         [-1.6614,  0.8670,  1.1424, -0.3481]],\n",
       "\n",
       "        [[-0.7368,  1.7552,  0.1218, -1.1402],\n",
       "         [-1.3267,  1.2296,  0.9600, -0.8629],\n",
       "         [-0.1025,  0.0000,  0.0358, -1.5357],\n",
       "         [-1.4374,  0.6122,  1.4511, -0.6259],\n",
       "         [ 0.0000,  1.5004,  0.5977, -1.3028],\n",
       "         [-1.4587,  1.0143,  1.1395, -0.6951],\n",
       "         [ 1.7939,  0.0000,  0.0000, -0.2812],\n",
       "         [-0.3649,  0.0000, -0.9507, -0.5742],\n",
       "         [-0.2391,  1.5931,  0.1675, -1.5215],\n",
       "         [-1.6614,  0.8670,  1.1424, -0.3481]]], device='cuda:0',\n",
       "       grad_fn=<FusedDropoutBackward>)"
      ]
     },
     "execution_count": 8,
     "metadata": {},
     "output_type": "execute_result"
    }
   ],
   "source": [
    "y"
   ]
  },
  {
   "cell_type": "code",
   "execution_count": 18,
   "metadata": {},
   "outputs": [
    {
     "data": {
      "text/plain": [
       "torch.Size([2, 1, 10])"
      ]
     },
     "execution_count": 18,
     "metadata": {},
     "output_type": "execute_result"
    }
   ],
   "source": [
    "x.size()"
   ]
  },
  {
   "cell_type": "code",
   "execution_count": 30,
   "metadata": {},
   "outputs": [],
   "source": [
    "_x = x.float() @ x.transpose(1, 2).float()"
   ]
  },
  {
   "cell_type": "code",
   "execution_count": 31,
   "metadata": {},
   "outputs": [
    {
     "data": {
      "text/plain": [
       "torch.Size([2, 1, 1])"
      ]
     },
     "execution_count": 31,
     "metadata": {},
     "output_type": "execute_result"
    }
   ],
   "source": [
    "_x.size()"
   ]
  },
  {
   "cell_type": "code",
   "execution_count": 32,
   "metadata": {},
   "outputs": [
    {
     "data": {
      "text/plain": [
       "tensor([[[1.]],\n",
       "\n",
       "        [[1.]]], device='cuda:0')"
      ]
     },
     "execution_count": 32,
     "metadata": {},
     "output_type": "execute_result"
    }
   ],
   "source": [
    "_x"
   ]
  },
  {
   "cell_type": "code",
   "execution_count": 33,
   "metadata": {},
   "outputs": [
    {
     "data": {
      "text/plain": [
       "tensor([[[1.]],\n",
       "\n",
       "        [[1.]]], device='cuda:0')"
      ]
     },
     "execution_count": 33,
     "metadata": {},
     "output_type": "execute_result"
    }
   ],
   "source": [
    "_x.contiguous()"
   ]
  },
  {
   "cell_type": "code",
   "execution_count": null,
   "metadata": {},
   "outputs": [],
   "source": []
  }
 ],
 "metadata": {
  "kernelspec": {
   "display_name": "Python 3",
   "language": "python",
   "name": "python3"
  },
  "language_info": {
   "codemirror_mode": {
    "name": "ipython",
    "version": 3
   },
   "file_extension": ".py",
   "mimetype": "text/x-python",
   "name": "python",
   "nbconvert_exporter": "python",
   "pygments_lexer": "ipython3",
   "version": "3.7.0"
  }
 },
 "nbformat": 4,
 "nbformat_minor": 2
}
